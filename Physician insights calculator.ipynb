{
 "cells": [
  {
   "cell_type": "code",
   "execution_count": 307,
   "metadata": {},
   "outputs": [],
   "source": [
    "import pandas as pd\n",
    "import numpy as np\n",
    "import warnings\n",
    "warnings.filterwarnings('ignore')"
   ]
  },
  {
   "cell_type": "code",
   "execution_count": 308,
   "metadata": {},
   "outputs": [],
   "source": [
    "#upload all dataframes\n",
    "\n",
    "patient_core_df = pd.read_csv('PatientCorePopulatedTable.txt', sep='\\t')\n",
    "admissions_core_df = pd.read_csv('AdmissionsCorePopulatedTable.txt', sep='\\t')\n",
    "admissions_diagnoses_core_df = pd.read_csv('AdmissionsDiagnosesCorePopulatedTable.txt', sep='\\t')"
   ]
  },
  {
   "cell_type": "code",
   "execution_count": 309,
   "metadata": {},
   "outputs": [],
   "source": [
    "# combine into one df on basis of patient ID\n",
    "\n",
    "combined_df = patient_core_df.merge(admissions_core_df, on='PatientID')\n",
    "combined_df = combined_df.merge(admissions_diagnoses_core_df, on='PatientID')"
   ]
  },
  {
   "cell_type": "code",
   "execution_count": 310,
   "metadata": {},
   "outputs": [],
   "source": [
    "# generate drug column\n",
    "# a set of hypothetical drugs are assigned to each disease. \n",
    "# These are chosen randomly to be \"administered\" for demo purposes\n",
    "\n",
    "dict_disease_codes = dict.fromkeys(combined_df.PrimaryDiagnosisCode.unique())\n",
    "\n",
    "num = 0\n",
    "for each in dict_disease_codes.keys():\n",
    "    dict_disease_codes[each] = [num, num+1]\n",
    "    num +=2\n",
    "\n",
    "combined_df['drug1'] = \"\"\n",
    "for row in range(0, len(combined_df)):\n",
    "    combined_df['drug1'][row] = np.random.choice(dict_disease_codes[combined_df['PrimaryDiagnosisCode'][row]])\n",
    "    "
   ]
  },
  {
   "cell_type": "code",
   "execution_count": 322,
   "metadata": {},
   "outputs": [],
   "source": [
    "# generate outcome column (random for now)\n",
    "\n",
    "outcomes = {4: 'best', 3: 'better', 2: 'no effect', 1: 'adverse'}\n",
    "for i in range (0, len(combined_df)):\n",
    "    combined_df['outcomes'][i] = np.random.choice([1, 2, 3, 4])"
   ]
  },
  {
   "cell_type": "code",
   "execution_count": 323,
   "metadata": {},
   "outputs": [],
   "source": [
    "# add age column, calculated by year - birth year\n",
    "\n",
    "combined_df['Age'] = ''\n",
    "\n",
    "for i in range(0, len(combined_df)):\n",
    "    combined_df['Age'][i] = 2020 - int(combined_df['PatientDateOfBirth'][i].split(' ')[0].split('-')[0])\n"
   ]
  },
  {
   "cell_type": "code",
   "execution_count": 324,
   "metadata": {},
   "outputs": [],
   "source": [
    "# For physician search:\n",
    "\n",
    "# input: physician query (age, primarydiagnosiscode)\n",
    "# output: (drug1, drug2, drug3) .. ranked by (drug_weighted_metric)"
   ]
  },
  {
   "cell_type": "code",
   "execution_count": 325,
   "metadata": {},
   "outputs": [],
   "source": [
    "import math\n",
    "\n",
    "# Used to calculate patient similarity\n",
    "# later build in more complex features like similar diagnoses\n",
    "\n",
    "def patient_similarity(patient1, patient2):\n",
    "    return (math.abs(patient1.age - patient2.age)/max(patient1.age, patient2.age))\n",
    "    "
   ]
  },
  {
   "cell_type": "code",
   "execution_count": 370,
   "metadata": {},
   "outputs": [],
   "source": [
    "\n",
    "# Updates summary table (\"insights table\") for physician with each new instance found\n",
    "\n",
    "def update_table(df, match):\n",
    "    \n",
    "    # first instance\n",
    "    last_index = len(df)\n",
    "    if(match['drug1'] not in df['drug_name'].unique()):\n",
    "        match = match.drop(['PatientGender', 'PatientDateOfBirth', 'PatientRace', 'PatientMaritalStatus', \n",
    "                   'PatientLanguage', 'PatientPopulationPercentageBelowPoverty', 'AdmissionID_x', 'AdmissionStartDate', 'AdmissionEndDate', \n",
    "                   'AdmissionID_y', 'PrimaryDiagnosisCode', 'PrimaryDiagnosisDescription'], axis=0)\n",
    "        match['num_instances'] = 1\n",
    "\n",
    "        match = match.rename({'drug1': 'drug_name', 'outcomes': 'avg_efficacy', 'Age': 'avg_age'})\n",
    "        df = df.append(match, ignore_index=True)\n",
    "        \n",
    "        #df['patient_ids'][match['drug_name']] = 1\n",
    "        \n",
    "        #df['patient_ids'][match['drug_name']].append(match['PatientID'])\n",
    "        \n",
    "    # update table for more uses\n",
    "    else:\n",
    "        avg_efficacy = df['avg_efficacy'][match['drug1']]\n",
    "        avg_age = df['avg_age'][match['drug1']]\n",
    "        num_instances = df['num_instances'][match['drug1']]\n",
    "        \n",
    "        \n",
    "        df['avg_efficacy'][match['drug1']] = (avg_efficacy*num_instances + match['outcomes']) / (num_instances + 1)\n",
    "        df['avg_age'][match['drug1']] = (avg_age*num_instances + match['Age']) / (num_instances + 1)\n",
    "        df['num_instances'][match['drug1']] +=1  \n",
    "        #df['patient_ids'][match['drug1']].append(match['PatientID'])\n",
    "\n",
    "    return df\n",
    "\n",
    "# Search function for physician \n",
    "\n",
    "def search(patient_age, patient_diagnosis):\n",
    "    num_unique_patients = 0\n",
    "    patient_ids_found = []\n",
    "    # get matches\n",
    "    matches = combined_df.loc[combined_df['PrimaryDiagnosisCode'] == patient_diagnosis]\n",
    "    \n",
    "    # create new dataframe for summary to be displayed to physician\n",
    "    summarized_drug_matches = pd.DataFrame(columns=['drug_name', 'num_instances', 'avg_efficacy', 'avg_age'])\n",
    "        \n",
    "    # create new dataframe with all results in case physician wants to see specific case data\n",
    "    all_drug_match_data = pd.DataFrame()\n",
    "      \n",
    "    # for each match\n",
    "    for index, row in matches.iterrows():\n",
    "        \n",
    "        match = row \n",
    "        \n",
    "        # add to all matches dataframe\n",
    "        all_drug_match_data = all_drug_match_data.append(match)\n",
    "        \n",
    "        # update summary table\n",
    "        summarized_drug_matches = update_table(summarized_drug_matches, match)             \n",
    "        \n",
    "    return summarized_drug_matches, all_drug_match_data"
   ]
  },
  {
   "cell_type": "code",
   "execution_count": 371,
   "metadata": {},
   "outputs": [
    {
     "name": "stdout",
     "output_type": "stream",
     "text": [
      "  drug_name num_instances avg_efficacy avg_age  \\\n",
      "0         1             1            2      73   \n",
      "1         0             2            3      73   \n",
      "\n",
      "                              PatientID  \n",
      "0  FB2ABB23-C9D0-4D09-8464-49BF0B982F0F  \n",
      "1  FB2ABB23-C9D0-4D09-8464-49BF0B982F0F  \n",
      "\n",
      "          AdmissionEndDate  AdmissionID_x  AdmissionID_y  \\\n",
      "0  1968-10-10 20:48:21.037            1.0            1.0   \n",
      "3  1974-06-13 15:31:26.577            2.0            1.0   \n",
      "6  2009-11-26 09:56:15.697            3.0            1.0   \n",
      "\n",
      "        AdmissionStartDate   Age       PatientDateOfBirth PatientGender  \\\n",
      "0  1968-10-07 11:15:49.617  73.0  1947-12-28 02:45:40.547          Male   \n",
      "3  1974-06-11 04:59:26.377  73.0  1947-12-28 02:45:40.547          Male   \n",
      "6  2009-11-09 12:52:06.760  73.0  1947-12-28 02:45:40.547          Male   \n",
      "\n",
      "                              PatientID PatientLanguage PatientMaritalStatus  \\\n",
      "0  FB2ABB23-C9D0-4D09-8464-49BF0B982F0F       Icelandic              Married   \n",
      "3  FB2ABB23-C9D0-4D09-8464-49BF0B982F0F       Icelandic              Married   \n",
      "6  FB2ABB23-C9D0-4D09-8464-49BF0B982F0F       Icelandic              Married   \n",
      "\n",
      "   PatientPopulationPercentageBelowPoverty PatientRace PrimaryDiagnosisCode  \\\n",
      "0                                    18.08     Unknown              M05.272   \n",
      "3                                    18.08     Unknown              M05.272   \n",
      "6                                    18.08     Unknown              M05.272   \n",
      "\n",
      "                         PrimaryDiagnosisDescription  drug1  outcomes  \n",
      "0  Rheumatoid vasculitis with rheumatoid arthriti...    1.0       2.0  \n",
      "3  Rheumatoid vasculitis with rheumatoid arthriti...    0.0       2.0  \n",
      "6  Rheumatoid vasculitis with rheumatoid arthriti...    1.0       4.0  \n"
     ]
    }
   ],
   "source": [
    "\n",
    "summary, all_data = search(25, 'M05.272')\n",
    "print(summary)\n",
    "print('')\n",
    "print(all_data)"
   ]
  },
  {
   "cell_type": "code",
   "execution_count": null,
   "metadata": {},
   "outputs": [],
   "source": []
  },
  {
   "cell_type": "code",
   "execution_count": null,
   "metadata": {},
   "outputs": [],
   "source": []
  },
  {
   "cell_type": "code",
   "execution_count": null,
   "metadata": {},
   "outputs": [],
   "source": []
  }
 ],
 "metadata": {
  "kernelspec": {
   "display_name": "Python 3",
   "language": "python",
   "name": "python3"
  },
  "language_info": {
   "codemirror_mode": {
    "name": "ipython",
    "version": 3
   },
   "file_extension": ".py",
   "mimetype": "text/x-python",
   "name": "python",
   "nbconvert_exporter": "python",
   "pygments_lexer": "ipython3",
   "version": "3.7.2"
  }
 },
 "nbformat": 4,
 "nbformat_minor": 2
}
